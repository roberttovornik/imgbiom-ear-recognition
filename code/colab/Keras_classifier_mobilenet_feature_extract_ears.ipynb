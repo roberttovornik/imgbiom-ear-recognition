{
  "nbformat": 4,
  "nbformat_minor": 0,
  "metadata": {
    "colab": {
      "name": "Keras-classifier-mobilenet-feature-extract-ears.ipynb",
      "provenance": [],
      "collapsed_sections": [],
      "toc_visible": true
    },
    "kernelspec": {
      "name": "python3",
      "display_name": "Python 3"
    }
  },
  "cells": [
    {
      "cell_type": "code",
      "metadata": {
        "id": "zWLfYIY5CDVn",
        "colab": {
          "base_uri": "https://localhost:8080/"
        },
        "outputId": "44bdac23-4212-4460-a458-b9a15d99ec06"
      },
      "source": [
        "from google.colab import drive\n",
        "drive.mount('/content/drive')"
      ],
      "execution_count": null,
      "outputs": [
        {
          "output_type": "stream",
          "text": [
            "Mounted at /content/drive\n"
          ],
          "name": "stdout"
        }
      ]
    },
    {
      "cell_type": "code",
      "metadata": {
        "id": "fMvrV-hXCyFB"
      },
      "source": [
        "import os\n",
        "from shutil import copy2\n",
        "import csv"
      ],
      "execution_count": null,
      "outputs": []
    },
    {
      "cell_type": "code",
      "metadata": {
        "id": "0dH_dGdvCz93"
      },
      "source": [
        "from __future__ import absolute_import, division, print_function, unicode_literals\n",
        "\n",
        "try:\n",
        "  # The %tensorflow_version magic only works in colab.\n",
        "  %tensorflow_version 2.x\n",
        "except Exception:\n",
        "  pass\n",
        "import tensorflow as tf\n",
        "\n",
        "import os\n",
        "import numpy as np\n",
        "import matplotlib.pyplot as plt"
      ],
      "execution_count": null,
      "outputs": []
    },
    {
      "cell_type": "code",
      "metadata": {
        "colab": {
          "base_uri": "https://localhost:8080/"
        },
        "id": "4a68VHs-C1pM",
        "outputId": "dd310b79-3b70-45c0-b99e-fcd447e68810"
      },
      "source": [
        "!pip install tensorflow_hub"
      ],
      "execution_count": null,
      "outputs": [
        {
          "output_type": "stream",
          "text": [
            "Requirement already satisfied: tensorflow_hub in /usr/local/lib/python3.6/dist-packages (0.10.0)\n",
            "Requirement already satisfied: protobuf>=3.8.0 in /usr/local/lib/python3.6/dist-packages (from tensorflow_hub) (3.12.4)\n",
            "Requirement already satisfied: numpy>=1.12.0 in /usr/local/lib/python3.6/dist-packages (from tensorflow_hub) (1.19.4)\n",
            "Requirement already satisfied: setuptools in /usr/local/lib/python3.6/dist-packages (from protobuf>=3.8.0->tensorflow_hub) (51.0.0)\n",
            "Requirement already satisfied: six>=1.9 in /usr/local/lib/python3.6/dist-packages (from protobuf>=3.8.0->tensorflow_hub) (1.15.0)\n"
          ],
          "name": "stdout"
        }
      ]
    },
    {
      "cell_type": "code",
      "metadata": {
        "id": "nMJ-jMEtC3Dg"
      },
      "source": [
        "import tensorflow_hub as hub"
      ],
      "execution_count": null,
      "outputs": []
    },
    {
      "cell_type": "code",
      "metadata": {
        "colab": {
          "base_uri": "https://localhost:8080/",
          "height": 35
        },
        "id": "cixAWly5C7Z5",
        "outputId": "a90b077e-9bdf-4bc5-cd21-fd95ad9cb16c"
      },
      "source": [
        "tf.__version__"
      ],
      "execution_count": null,
      "outputs": [
        {
          "output_type": "execute_result",
          "data": {
            "application/vnd.google.colaboratory.intrinsic+json": {
              "type": "string"
            },
            "text/plain": [
              "'2.4.0'"
            ]
          },
          "metadata": {
            "tags": []
          },
          "execution_count": 8
        }
      ]
    },
    {
      "cell_type": "code",
      "metadata": {
        "id": "yH-WRIy9DMFe"
      },
      "source": [
        "import pandas as pd\n",
        "\n",
        "# Increase precision of presented data for better side-by-side comparison\n",
        "pd.set_option(\"display.precision\", 8)"
      ],
      "execution_count": null,
      "outputs": []
    },
    {
      "cell_type": "code",
      "metadata": {
        "id": "tFf8e1b9DPNw"
      },
      "source": [
        "data_root = (\"/content/drive/MyDrive/Workspace-COLAB/biom-task3/classifier-keras/dataset/awe\")"
      ],
      "execution_count": null,
      "outputs": []
    },
    {
      "cell_type": "code",
      "metadata": {
        "colab": {
          "base_uri": "https://localhost:8080/"
        },
        "id": "vjGvc0L8DuUW",
        "outputId": "8b30b73c-719f-4f2e-cf3e-228dd63344c6"
      },
      "source": [
        "IMAGE_SHAPE = (224, 224)\n",
        "TRAINING_DATA_DIR = str(data_root)\n",
        "\n",
        "datagen_kwargs = dict(rotation_range=15,\n",
        "                               width_shift_range=0.1,\n",
        "                               height_shift_range=0.1,\n",
        "                               shear_range=0.01,\n",
        "                               zoom_range=[0.9, 1.25],\n",
        "                               horizontal_flip=True,\n",
        "                               vertical_flip=False,\n",
        "                               fill_mode='reflect',\n",
        "                               data_format='channels_last',\n",
        "                               brightness_range=[0.5, 1.5], rescale=1./255, validation_split=.20)\n",
        "valid_datagen = tf.keras.preprocessing.image.ImageDataGenerator(**datagen_kwargs)\n",
        "valid_generator = valid_datagen.flow_from_directory(\n",
        "    TRAINING_DATA_DIR, \n",
        "    subset=\"validation\", \n",
        "    shuffle=True,\n",
        "    target_size=IMAGE_SHAPE\n",
        ")\n",
        "\n",
        "train_datagen = tf.keras.preprocessing.image.ImageDataGenerator(**datagen_kwargs)\n",
        "\n",
        "train_generator = train_datagen.flow_from_directory(\n",
        "    TRAINING_DATA_DIR, \n",
        "    subset=\"training\", \n",
        "    shuffle=True,\n",
        "    target_size=IMAGE_SHAPE)"
      ],
      "execution_count": null,
      "outputs": [
        {
          "output_type": "stream",
          "text": [
            "Found 200 images belonging to 100 classes.\n",
            "Found 800 images belonging to 100 classes.\n"
          ],
          "name": "stdout"
        }
      ]
    },
    {
      "cell_type": "code",
      "metadata": {
        "colab": {
          "base_uri": "https://localhost:8080/"
        },
        "id": "EqQD7FMMD4sT",
        "outputId": "d1e81a10-1f0d-407e-a5d3-e79c616201bc"
      },
      "source": [
        "for image_batch, label_batch in train_generator:\n",
        "  break\n",
        "image_batch.shape, label_batch.shape"
      ],
      "execution_count": null,
      "outputs": [
        {
          "output_type": "execute_result",
          "data": {
            "text/plain": [
              "((32, 224, 224, 3), (32, 100))"
            ]
          },
          "metadata": {
            "tags": []
          },
          "execution_count": 41
        }
      ]
    },
    {
      "cell_type": "code",
      "metadata": {
        "colab": {
          "base_uri": "https://localhost:8080/"
        },
        "id": "kL81g1lPD-0c",
        "outputId": "bc7700e0-2288-4643-8c7e-f4a4324791a2"
      },
      "source": [
        "print (train_generator.class_indices)\n",
        "\n",
        "labels = '\\n'.join(sorted(train_generator.class_indices.keys()))\n",
        "\n",
        "with open('labels.txt', 'w') as f:\n",
        "  f.write(labels)"
      ],
      "execution_count": null,
      "outputs": [
        {
          "output_type": "stream",
          "text": [
            "{'001': 0, '002': 1, '003': 2, '004': 3, '005': 4, '006': 5, '007': 6, '008': 7, '009': 8, '010': 9, '011': 10, '012': 11, '013': 12, '014': 13, '015': 14, '016': 15, '017': 16, '018': 17, '019': 18, '020': 19, '021': 20, '022': 21, '023': 22, '024': 23, '025': 24, '026': 25, '027': 26, '028': 27, '029': 28, '030': 29, '031': 30, '032': 31, '033': 32, '034': 33, '035': 34, '036': 35, '037': 36, '038': 37, '039': 38, '040': 39, '041': 40, '042': 41, '043': 42, '044': 43, '045': 44, '046': 45, '047': 46, '048': 47, '049': 48, '050': 49, '051': 50, '052': 51, '053': 52, '054': 53, '055': 54, '056': 55, '057': 56, '058': 57, '059': 58, '060': 59, '061': 60, '062': 61, '063': 62, '064': 63, '065': 64, '066': 65, '067': 66, '068': 67, '069': 68, '070': 69, '071': 70, '072': 71, '073': 72, '074': 73, '075': 74, '076': 75, '077': 76, '078': 77, '079': 78, '080': 79, '081': 80, '082': 81, '083': 82, '084': 83, '085': 84, '086': 85, '087': 86, '088': 87, '089': 88, '090': 89, '091': 90, '092': 91, '093': 92, '094': 93, '095': 94, '096': 95, '097': 96, '098': 97, '099': 98, '100': 99}\n"
          ],
          "name": "stdout"
        }
      ]
    },
    {
      "cell_type": "code",
      "metadata": {
        "id": "IUkT6iGREERV"
      },
      "source": [
        "# !cat labels.txt"
      ],
      "execution_count": null,
      "outputs": []
    },
    {
      "cell_type": "code",
      "metadata": {
        "id": "EuCm9jpFELQE"
      },
      "source": [
        "IMAGE_SIZE = 224"
      ],
      "execution_count": null,
      "outputs": []
    },
    {
      "cell_type": "code",
      "metadata": {
        "colab": {
          "base_uri": "https://localhost:8080/"
        },
        "id": "CxPh7zhaEPfp",
        "outputId": "ff80a970-bedc-43e4-b70c-1f0a8b4ebb58"
      },
      "source": [
        "model = tf.keras.Sequential([\n",
        "  hub.KerasLayer(\"https://tfhub.dev/google/tf2-preview/mobilenet_v2/feature_vector/4\", \n",
        "                 output_shape=[1280],\n",
        "                 trainable=False),\n",
        "  tf.keras.layers.Dropout(0.4),\n",
        "  tf.keras.layers.Dense(train_generator.num_classes, activation='softmax')\n",
        "])\n",
        "model.build([None, 224, 224, 3])\n",
        "\n",
        "model.summary()"
      ],
      "execution_count": null,
      "outputs": [
        {
          "output_type": "stream",
          "text": [
            "Model: \"sequential_2\"\n",
            "_________________________________________________________________\n",
            "Layer (type)                 Output Shape              Param #   \n",
            "=================================================================\n",
            "keras_layer_2 (KerasLayer)   (None, 1280)              2257984   \n",
            "_________________________________________________________________\n",
            "dropout_2 (Dropout)          (None, 1280)              0         \n",
            "_________________________________________________________________\n",
            "dense_2 (Dense)              (None, 100)               128100    \n",
            "=================================================================\n",
            "Total params: 2,386,084\n",
            "Trainable params: 128,100\n",
            "Non-trainable params: 2,257,984\n",
            "_________________________________________________________________\n"
          ],
          "name": "stdout"
        }
      ]
    },
    {
      "cell_type": "code",
      "metadata": {
        "id": "7Wdaf5RJGcBU"
      },
      "source": [
        "optimizer = tf.keras.optimizers.Adam(lr=1e-3)"
      ],
      "execution_count": null,
      "outputs": []
    },
    {
      "cell_type": "code",
      "metadata": {
        "id": "WWcubllUGc8J"
      },
      "source": [
        "model.compile(\n",
        "  optimizer=optimizer,\n",
        "  loss='categorical_crossentropy',\n",
        "  metrics=['acc'])"
      ],
      "execution_count": null,
      "outputs": []
    },
    {
      "cell_type": "code",
      "metadata": {
        "colab": {
          "base_uri": "https://localhost:8080/"
        },
        "id": "Tgfu3MoJGdNx",
        "outputId": "96926143-28f5-4320-b5d7-be41911c6f4e"
      },
      "source": [
        "steps_per_epoch = np.ceil(train_generator.samples/train_generator.batch_size)\n",
        "val_steps_per_epoch = np.ceil(valid_generator.samples/valid_generator.batch_size)\n",
        "\n",
        "hist = model.fit(\n",
        "    train_generator, \n",
        "    epochs=100,\n",
        "    verbose=1,\n",
        "    steps_per_epoch=steps_per_epoch,\n",
        "    validation_data=valid_generator,\n",
        "    validation_steps=val_steps_per_epoch).history"
      ],
      "execution_count": null,
      "outputs": [
        {
          "output_type": "stream",
          "text": [
            "Epoch 1/100\n",
            "25/25 [==============================] - 51s 2s/step - loss: 5.9206 - acc: 0.0049 - val_loss: 4.6912 - val_acc: 0.0200\n",
            "Epoch 2/100\n",
            "25/25 [==============================] - 47s 2s/step - loss: 4.9859 - acc: 0.0348 - val_loss: 4.4338 - val_acc: 0.0450\n",
            "Epoch 3/100\n",
            "25/25 [==============================] - 47s 2s/step - loss: 4.3498 - acc: 0.0599 - val_loss: 4.2729 - val_acc: 0.0800\n",
            "Epoch 4/100\n",
            "25/25 [==============================] - 47s 2s/step - loss: 3.9600 - acc: 0.1135 - val_loss: 4.1224 - val_acc: 0.1250\n",
            "Epoch 5/100\n",
            "25/25 [==============================] - 47s 2s/step - loss: 3.5150 - acc: 0.1486 - val_loss: 4.1359 - val_acc: 0.1300\n",
            "Epoch 6/100\n",
            "25/25 [==============================] - 47s 2s/step - loss: 3.2894 - acc: 0.2222 - val_loss: 4.0480 - val_acc: 0.1400\n",
            "Epoch 7/100\n",
            "25/25 [==============================] - 47s 2s/step - loss: 3.1082 - acc: 0.2635 - val_loss: 3.9499 - val_acc: 0.1150\n",
            "Epoch 8/100\n",
            "25/25 [==============================] - 47s 2s/step - loss: 2.8131 - acc: 0.3088 - val_loss: 3.8988 - val_acc: 0.1250\n",
            "Epoch 9/100\n",
            "25/25 [==============================] - 47s 2s/step - loss: 2.7368 - acc: 0.3263 - val_loss: 3.8399 - val_acc: 0.1350\n",
            "Epoch 10/100\n",
            "25/25 [==============================] - 47s 2s/step - loss: 2.5926 - acc: 0.3296 - val_loss: 3.8613 - val_acc: 0.1650\n",
            "Epoch 11/100\n",
            "25/25 [==============================] - 47s 2s/step - loss: 2.3557 - acc: 0.3730 - val_loss: 3.7930 - val_acc: 0.1250\n",
            "Epoch 12/100\n",
            "25/25 [==============================] - 47s 2s/step - loss: 2.3147 - acc: 0.4124 - val_loss: 3.8889 - val_acc: 0.1900\n",
            "Epoch 13/100\n",
            "25/25 [==============================] - 47s 2s/step - loss: 2.2534 - acc: 0.4679 - val_loss: 3.8487 - val_acc: 0.1750\n",
            "Epoch 14/100\n",
            "25/25 [==============================] - 47s 2s/step - loss: 2.0412 - acc: 0.4959 - val_loss: 3.7849 - val_acc: 0.1950\n",
            "Epoch 15/100\n",
            "25/25 [==============================] - 47s 2s/step - loss: 1.8934 - acc: 0.5227 - val_loss: 3.6560 - val_acc: 0.2100\n",
            "Epoch 16/100\n",
            "25/25 [==============================] - 47s 2s/step - loss: 1.8027 - acc: 0.5144 - val_loss: 3.6691 - val_acc: 0.2200\n",
            "Epoch 17/100\n",
            "25/25 [==============================] - 47s 2s/step - loss: 1.7949 - acc: 0.5231 - val_loss: 3.7887 - val_acc: 0.1750\n",
            "Epoch 18/100\n",
            "25/25 [==============================] - 47s 2s/step - loss: 1.7327 - acc: 0.5652 - val_loss: 3.6867 - val_acc: 0.2150\n",
            "Epoch 19/100\n",
            "25/25 [==============================] - 47s 2s/step - loss: 1.6670 - acc: 0.5816 - val_loss: 3.8145 - val_acc: 0.1800\n",
            "Epoch 20/100\n",
            "25/25 [==============================] - 48s 2s/step - loss: 1.7309 - acc: 0.5554 - val_loss: 3.6714 - val_acc: 0.1750\n",
            "Epoch 21/100\n",
            "25/25 [==============================] - 47s 2s/step - loss: 1.5780 - acc: 0.5671 - val_loss: 3.7361 - val_acc: 0.1800\n",
            "Epoch 22/100\n",
            "25/25 [==============================] - 47s 2s/step - loss: 1.5150 - acc: 0.5897 - val_loss: 3.8013 - val_acc: 0.1850\n",
            "Epoch 23/100\n",
            "25/25 [==============================] - 47s 2s/step - loss: 1.3700 - acc: 0.6645 - val_loss: 3.7939 - val_acc: 0.2250\n",
            "Epoch 24/100\n",
            "25/25 [==============================] - 47s 2s/step - loss: 1.3752 - acc: 0.6591 - val_loss: 3.7525 - val_acc: 0.2000\n",
            "Epoch 25/100\n",
            "25/25 [==============================] - 47s 2s/step - loss: 1.3515 - acc: 0.6295 - val_loss: 3.6755 - val_acc: 0.2250\n",
            "Epoch 26/100\n",
            "25/25 [==============================] - 47s 2s/step - loss: 1.3629 - acc: 0.6493 - val_loss: 3.6972 - val_acc: 0.2200\n",
            "Epoch 27/100\n",
            "25/25 [==============================] - 47s 2s/step - loss: 1.3187 - acc: 0.6562 - val_loss: 3.7308 - val_acc: 0.2000\n",
            "Epoch 28/100\n",
            "25/25 [==============================] - 47s 2s/step - loss: 1.1842 - acc: 0.7098 - val_loss: 3.9637 - val_acc: 0.1650\n",
            "Epoch 29/100\n",
            "25/25 [==============================] - 47s 2s/step - loss: 1.1870 - acc: 0.6716 - val_loss: 3.8055 - val_acc: 0.2300\n",
            "Epoch 30/100\n",
            "25/25 [==============================] - 47s 2s/step - loss: 1.1640 - acc: 0.7005 - val_loss: 3.7232 - val_acc: 0.2050\n",
            "Epoch 31/100\n",
            "25/25 [==============================] - 47s 2s/step - loss: 1.1104 - acc: 0.7249 - val_loss: 3.6450 - val_acc: 0.2300\n",
            "Epoch 32/100\n",
            "25/25 [==============================] - 47s 2s/step - loss: 1.1065 - acc: 0.7150 - val_loss: 3.8365 - val_acc: 0.2150\n",
            "Epoch 33/100\n",
            "25/25 [==============================] - 47s 2s/step - loss: 1.0555 - acc: 0.7257 - val_loss: 3.8265 - val_acc: 0.1950\n",
            "Epoch 34/100\n",
            "25/25 [==============================] - 47s 2s/step - loss: 1.0150 - acc: 0.7524 - val_loss: 3.7395 - val_acc: 0.2450\n",
            "Epoch 35/100\n",
            "25/25 [==============================] - 47s 2s/step - loss: 1.0743 - acc: 0.7051 - val_loss: 3.7846 - val_acc: 0.1800\n",
            "Epoch 36/100\n",
            "25/25 [==============================] - 47s 2s/step - loss: 0.9857 - acc: 0.7629 - val_loss: 3.7834 - val_acc: 0.2000\n",
            "Epoch 37/100\n",
            "25/25 [==============================] - 47s 2s/step - loss: 0.9945 - acc: 0.7475 - val_loss: 3.6887 - val_acc: 0.2450\n",
            "Epoch 38/100\n",
            "25/25 [==============================] - 48s 2s/step - loss: 1.0156 - acc: 0.7477 - val_loss: 3.8319 - val_acc: 0.1900\n",
            "Epoch 39/100\n",
            "25/25 [==============================] - 49s 2s/step - loss: 0.9219 - acc: 0.7617 - val_loss: 3.8263 - val_acc: 0.1900\n",
            "Epoch 40/100\n",
            "25/25 [==============================] - 47s 2s/step - loss: 0.9065 - acc: 0.7635 - val_loss: 3.7529 - val_acc: 0.2250\n",
            "Epoch 41/100\n",
            "25/25 [==============================] - 47s 2s/step - loss: 0.9619 - acc: 0.7693 - val_loss: 3.8730 - val_acc: 0.2600\n",
            "Epoch 42/100\n",
            "25/25 [==============================] - 47s 2s/step - loss: 0.8558 - acc: 0.7861 - val_loss: 4.0429 - val_acc: 0.1600\n",
            "Epoch 43/100\n",
            "25/25 [==============================] - 48s 2s/step - loss: 0.9805 - acc: 0.7538 - val_loss: 3.9799 - val_acc: 0.1850\n",
            "Epoch 44/100\n",
            "25/25 [==============================] - 47s 2s/step - loss: 0.8192 - acc: 0.8003 - val_loss: 3.9313 - val_acc: 0.2100\n",
            "Epoch 45/100\n",
            "25/25 [==============================] - 47s 2s/step - loss: 0.8841 - acc: 0.7822 - val_loss: 3.8414 - val_acc: 0.2100\n",
            "Epoch 46/100\n",
            "25/25 [==============================] - 47s 2s/step - loss: 0.8599 - acc: 0.7981 - val_loss: 3.8187 - val_acc: 0.1900\n",
            "Epoch 47/100\n",
            "25/25 [==============================] - 47s 2s/step - loss: 0.8374 - acc: 0.7867 - val_loss: 3.8392 - val_acc: 0.2150\n",
            "Epoch 48/100\n",
            "25/25 [==============================] - 47s 2s/step - loss: 0.8345 - acc: 0.7864 - val_loss: 3.9262 - val_acc: 0.2350\n",
            "Epoch 49/100\n",
            "25/25 [==============================] - 47s 2s/step - loss: 0.7953 - acc: 0.7812 - val_loss: 3.8986 - val_acc: 0.2450\n",
            "Epoch 50/100\n",
            "25/25 [==============================] - 47s 2s/step - loss: 0.9044 - acc: 0.7509 - val_loss: 3.7785 - val_acc: 0.1600\n",
            "Epoch 51/100\n",
            "25/25 [==============================] - 47s 2s/step - loss: 0.8010 - acc: 0.7952 - val_loss: 4.0012 - val_acc: 0.2100\n",
            "Epoch 52/100\n",
            "25/25 [==============================] - 47s 2s/step - loss: 0.7562 - acc: 0.8059 - val_loss: 3.7697 - val_acc: 0.2200\n",
            "Epoch 53/100\n",
            "25/25 [==============================] - 47s 2s/step - loss: 0.7302 - acc: 0.8238 - val_loss: 3.8523 - val_acc: 0.2150\n",
            "Epoch 54/100\n",
            "25/25 [==============================] - 47s 2s/step - loss: 0.7785 - acc: 0.8122 - val_loss: 3.7522 - val_acc: 0.2300\n",
            "Epoch 55/100\n",
            "25/25 [==============================] - 47s 2s/step - loss: 0.7605 - acc: 0.8040 - val_loss: 3.9633 - val_acc: 0.2100\n",
            "Epoch 56/100\n",
            "25/25 [==============================] - 47s 2s/step - loss: 0.7371 - acc: 0.7999 - val_loss: 3.9687 - val_acc: 0.2050\n",
            "Epoch 57/100\n",
            "25/25 [==============================] - 47s 2s/step - loss: 0.7299 - acc: 0.8280 - val_loss: 3.8820 - val_acc: 0.2150\n",
            "Epoch 58/100\n",
            "25/25 [==============================] - 47s 2s/step - loss: 0.7149 - acc: 0.8061 - val_loss: 3.9429 - val_acc: 0.1850\n",
            "Epoch 59/100\n",
            "25/25 [==============================] - 47s 2s/step - loss: 0.6809 - acc: 0.8348 - val_loss: 3.8714 - val_acc: 0.2050\n",
            "Epoch 60/100\n",
            "25/25 [==============================] - 47s 2s/step - loss: 0.6872 - acc: 0.8135 - val_loss: 3.9855 - val_acc: 0.2250\n",
            "Epoch 61/100\n",
            "25/25 [==============================] - 47s 2s/step - loss: 0.6968 - acc: 0.8075 - val_loss: 3.9003 - val_acc: 0.2500\n",
            "Epoch 62/100\n",
            "25/25 [==============================] - 47s 2s/step - loss: 0.6650 - acc: 0.8324 - val_loss: 4.0307 - val_acc: 0.2300\n",
            "Epoch 63/100\n",
            "25/25 [==============================] - 47s 2s/step - loss: 0.5872 - acc: 0.8536 - val_loss: 3.9261 - val_acc: 0.2150\n",
            "Epoch 64/100\n",
            "25/25 [==============================] - 47s 2s/step - loss: 0.6180 - acc: 0.8564 - val_loss: 3.8941 - val_acc: 0.2200\n",
            "Epoch 65/100\n",
            "25/25 [==============================] - 47s 2s/step - loss: 0.6488 - acc: 0.8066 - val_loss: 3.9856 - val_acc: 0.1850\n",
            "Epoch 66/100\n",
            "25/25 [==============================] - 48s 2s/step - loss: 0.6408 - acc: 0.8232 - val_loss: 4.0950 - val_acc: 0.2250\n",
            "Epoch 67/100\n",
            "25/25 [==============================] - 47s 2s/step - loss: 0.6594 - acc: 0.8190 - val_loss: 4.0244 - val_acc: 0.1950\n",
            "Epoch 68/100\n",
            "25/25 [==============================] - 48s 2s/step - loss: 0.5799 - acc: 0.8657 - val_loss: 4.0324 - val_acc: 0.2300\n",
            "Epoch 69/100\n",
            "25/25 [==============================] - 48s 2s/step - loss: 0.5907 - acc: 0.8570 - val_loss: 4.0987 - val_acc: 0.2300\n",
            "Epoch 70/100\n",
            "25/25 [==============================] - 47s 2s/step - loss: 0.5959 - acc: 0.8221 - val_loss: 3.9929 - val_acc: 0.2300\n",
            "Epoch 71/100\n",
            "25/25 [==============================] - 47s 2s/step - loss: 0.6416 - acc: 0.8387 - val_loss: 4.0216 - val_acc: 0.2250\n",
            "Epoch 72/100\n",
            "25/25 [==============================] - 47s 2s/step - loss: 0.5657 - acc: 0.8490 - val_loss: 4.1704 - val_acc: 0.2400\n",
            "Epoch 73/100\n",
            "25/25 [==============================] - 47s 2s/step - loss: 0.5470 - acc: 0.8472 - val_loss: 4.0514 - val_acc: 0.1850\n",
            "Epoch 74/100\n",
            "25/25 [==============================] - 47s 2s/step - loss: 0.6070 - acc: 0.8456 - val_loss: 3.8792 - val_acc: 0.2750\n",
            "Epoch 75/100\n",
            "25/25 [==============================] - 47s 2s/step - loss: 0.5854 - acc: 0.8525 - val_loss: 4.0865 - val_acc: 0.2200\n",
            "Epoch 76/100\n",
            "25/25 [==============================] - 47s 2s/step - loss: 0.5636 - acc: 0.8573 - val_loss: 3.8544 - val_acc: 0.2300\n",
            "Epoch 77/100\n",
            "25/25 [==============================] - 47s 2s/step - loss: 0.6144 - acc: 0.8625 - val_loss: 4.1193 - val_acc: 0.1950\n",
            "Epoch 78/100\n",
            "25/25 [==============================] - 47s 2s/step - loss: 0.5308 - acc: 0.8533 - val_loss: 3.9337 - val_acc: 0.2300\n",
            "Epoch 79/100\n",
            "25/25 [==============================] - 47s 2s/step - loss: 0.6054 - acc: 0.8338 - val_loss: 4.0430 - val_acc: 0.2100\n",
            "Epoch 80/100\n",
            "25/25 [==============================] - 47s 2s/step - loss: 0.5053 - acc: 0.8733 - val_loss: 4.1425 - val_acc: 0.2050\n",
            "Epoch 81/100\n",
            "25/25 [==============================] - 47s 2s/step - loss: 0.5833 - acc: 0.8459 - val_loss: 4.0827 - val_acc: 0.2300\n",
            "Epoch 82/100\n",
            "25/25 [==============================] - 47s 2s/step - loss: 0.4785 - acc: 0.8733 - val_loss: 4.0312 - val_acc: 0.2300\n",
            "Epoch 83/100\n",
            "25/25 [==============================] - 47s 2s/step - loss: 0.5216 - acc: 0.8415 - val_loss: 4.1367 - val_acc: 0.2050\n",
            "Epoch 84/100\n",
            "25/25 [==============================] - 47s 2s/step - loss: 0.5050 - acc: 0.8707 - val_loss: 4.2573 - val_acc: 0.1950\n",
            "Epoch 85/100\n",
            "25/25 [==============================] - 47s 2s/step - loss: 0.5494 - acc: 0.8431 - val_loss: 4.1058 - val_acc: 0.2050\n",
            "Epoch 86/100\n",
            "25/25 [==============================] - 47s 2s/step - loss: 0.5445 - acc: 0.8631 - val_loss: 4.1419 - val_acc: 0.2050\n",
            "Epoch 87/100\n",
            "25/25 [==============================] - 47s 2s/step - loss: 0.5473 - acc: 0.8685 - val_loss: 4.1564 - val_acc: 0.2200\n",
            "Epoch 88/100\n",
            "25/25 [==============================] - 47s 2s/step - loss: 0.5246 - acc: 0.8603 - val_loss: 4.1068 - val_acc: 0.2250\n",
            "Epoch 89/100\n",
            "25/25 [==============================] - 47s 2s/step - loss: 0.5303 - acc: 0.8629 - val_loss: 4.2138 - val_acc: 0.2000\n",
            "Epoch 90/100\n",
            "25/25 [==============================] - 47s 2s/step - loss: 0.5039 - acc: 0.8657 - val_loss: 4.0274 - val_acc: 0.2200\n",
            "Epoch 91/100\n",
            "25/25 [==============================] - 47s 2s/step - loss: 0.4786 - acc: 0.8693 - val_loss: 4.2942 - val_acc: 0.2200\n",
            "Epoch 92/100\n",
            "25/25 [==============================] - 48s 2s/step - loss: 0.5921 - acc: 0.8533 - val_loss: 4.0483 - val_acc: 0.2300\n",
            "Epoch 93/100\n",
            "25/25 [==============================] - 47s 2s/step - loss: 0.4837 - acc: 0.8801 - val_loss: 4.1916 - val_acc: 0.2200\n",
            "Epoch 94/100\n",
            "25/25 [==============================] - 47s 2s/step - loss: 0.4875 - acc: 0.8642 - val_loss: 4.2213 - val_acc: 0.2150\n",
            "Epoch 95/100\n",
            "25/25 [==============================] - 47s 2s/step - loss: 0.4960 - acc: 0.8657 - val_loss: 4.0374 - val_acc: 0.1950\n",
            "Epoch 96/100\n",
            "25/25 [==============================] - 47s 2s/step - loss: 0.4093 - acc: 0.8824 - val_loss: 4.2065 - val_acc: 0.2200\n",
            "Epoch 97/100\n",
            "25/25 [==============================] - 47s 2s/step - loss: 0.5283 - acc: 0.8446 - val_loss: 3.9407 - val_acc: 0.2000\n",
            "Epoch 98/100\n",
            "25/25 [==============================] - 47s 2s/step - loss: 0.4615 - acc: 0.8672 - val_loss: 4.0249 - val_acc: 0.2250\n",
            "Epoch 99/100\n",
            "25/25 [==============================] - 48s 2s/step - loss: 0.3740 - acc: 0.9019 - val_loss: 4.2608 - val_acc: 0.2100\n",
            "Epoch 100/100\n",
            "25/25 [==============================] - 47s 2s/step - loss: 0.5194 - acc: 0.8604 - val_loss: 4.1574 - val_acc: 0.2250\n"
          ],
          "name": "stdout"
        }
      ]
    },
    {
      "cell_type": "code",
      "metadata": {
        "id": "nNbGI-c8GdQD"
      },
      "source": [
        ""
      ],
      "execution_count": null,
      "outputs": []
    },
    {
      "cell_type": "code",
      "metadata": {
        "id": "vELmoxHPGdSu"
      },
      "source": [
        ""
      ],
      "execution_count": null,
      "outputs": []
    },
    {
      "cell_type": "code",
      "metadata": {
        "id": "GivnhDwtGdUt"
      },
      "source": [
        ""
      ],
      "execution_count": null,
      "outputs": []
    }
  ]
}